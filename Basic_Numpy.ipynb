{
  "nbformat": 4,
  "nbformat_minor": 0,
  "metadata": {
    "colab": {
      "name": "Basic Numpy.ipynb",
      "provenance": [],
      "collapsed_sections": [
        "X9SZy1fQeirY",
        "ybtND1jLukYs",
        "0-wFYerTveWu"
      ],
      "authorship_tag": "ABX9TyOdo1bSVfu1sI/SoKQ+he2r",
      "include_colab_link": true
    },
    "kernelspec": {
      "name": "python3",
      "display_name": "Python 3"
    }
  },
  "cells": [
    {
      "cell_type": "markdown",
      "metadata": {
        "id": "view-in-github",
        "colab_type": "text"
      },
      "source": [
        "<a href=\"https://colab.research.google.com/github/aviraltyagi/MLBasics/blob/main/Basic_Numpy.ipynb\" target=\"_parent\"><img src=\"https://colab.research.google.com/assets/colab-badge.svg\" alt=\"Open In Colab\"/></a>"
      ]
    },
    {
      "cell_type": "code",
      "metadata": {
        "id": "vzcKVFcpeUxW"
      },
      "source": [
        "import numpy as np"
      ],
      "execution_count": 1,
      "outputs": []
    },
    {
      "cell_type": "markdown",
      "metadata": {
        "id": "X9SZy1fQeirY"
      },
      "source": [
        "## Numpy Array"
      ]
    },
    {
      "cell_type": "code",
      "metadata": {
        "id": "Ah1jOLdHeoqO",
        "colab": {
          "base_uri": "https://localhost:8080/"
        },
        "outputId": "75383975-ad78-4062-8cd2-767cace087c5"
      },
      "source": [
        "a = np.array([1,2,3])\r\n",
        "a"
      ],
      "execution_count": 2,
      "outputs": [
        {
          "output_type": "execute_result",
          "data": {
            "text/plain": [
              "array([1, 2, 3])"
            ]
          },
          "metadata": {
            "tags": []
          },
          "execution_count": 2
        }
      ]
    },
    {
      "cell_type": "code",
      "metadata": {
        "id": "lu_fiIpjfhXd",
        "colab": {
          "base_uri": "https://localhost:8080/"
        },
        "outputId": "53979df4-e21d-4db7-ce8e-258a4e2e4609"
      },
      "source": [
        "b = np.array([(1,2,3),\r\n",
        "              (4,5,6)])\r\n",
        "b"
      ],
      "execution_count": 26,
      "outputs": [
        {
          "output_type": "execute_result",
          "data": {
            "text/plain": [
              "array([[1, 2, 3],\n",
              "       [4, 5, 6]])"
            ]
          },
          "metadata": {
            "tags": []
          },
          "execution_count": 26
        }
      ]
    },
    {
      "cell_type": "code",
      "metadata": {
        "id": "vm-UqVzLfwco",
        "colab": {
          "base_uri": "https://localhost:8080/"
        },
        "outputId": "8a5f57aa-233b-49c3-e6f1-7b88e7a6c413"
      },
      "source": [
        "c = np.array([[(1,2,3),\r\n",
        "               (4,5,6)],\r\n",
        "              [(7,8,9),\r\n",
        "               (10,11,12)]])\r\n",
        "c"
      ],
      "execution_count": 4,
      "outputs": [
        {
          "output_type": "execute_result",
          "data": {
            "text/plain": [
              "array([[[ 1,  2,  3],\n",
              "        [ 4,  5,  6]],\n",
              "\n",
              "       [[ 7,  8,  9],\n",
              "        [10, 11, 12]]])"
            ]
          },
          "metadata": {
            "tags": []
          },
          "execution_count": 4
        }
      ]
    },
    {
      "cell_type": "code",
      "metadata": {
        "colab": {
          "base_uri": "https://localhost:8080/"
        },
        "id": "-upZQ1gigGgJ",
        "outputId": "ba47a483-1b49-4a14-e24a-3c2c206f9316"
      },
      "source": [
        "d = np.zeros((2,2), dtype= int)\r\n",
        "d"
      ],
      "execution_count": 5,
      "outputs": [
        {
          "output_type": "execute_result",
          "data": {
            "text/plain": [
              "array([[0, 0],\n",
              "       [0, 0]])"
            ]
          },
          "metadata": {
            "tags": []
          },
          "execution_count": 5
        }
      ]
    },
    {
      "cell_type": "code",
      "metadata": {
        "colab": {
          "base_uri": "https://localhost:8080/"
        },
        "id": "v_2rNfJHgYby",
        "outputId": "bbd9ff90-25c7-4eea-dca3-e95ec00aa969"
      },
      "source": [
        "e = np.ones((2,3), dtype= float)\r\n",
        "e"
      ],
      "execution_count": 6,
      "outputs": [
        {
          "output_type": "execute_result",
          "data": {
            "text/plain": [
              "array([[1., 1., 1.],\n",
              "       [1., 1., 1.]])"
            ]
          },
          "metadata": {
            "tags": []
          },
          "execution_count": 6
        }
      ]
    },
    {
      "cell_type": "code",
      "metadata": {
        "colab": {
          "base_uri": "https://localhost:8080/"
        },
        "id": "lqFQaHh7ggAK",
        "outputId": "c65e9295-eb91-43ee-8612-22cee5d03c8a"
      },
      "source": [
        "f = np.arange(1,5, dtype= float)\r\n",
        "f"
      ],
      "execution_count": 7,
      "outputs": [
        {
          "output_type": "execute_result",
          "data": {
            "text/plain": [
              "array([1., 2., 3., 4.])"
            ]
          },
          "metadata": {
            "tags": []
          },
          "execution_count": 7
        }
      ]
    },
    {
      "cell_type": "markdown",
      "metadata": {
        "id": "ybtND1jLukYs"
      },
      "source": [
        "## Inspecting Array"
      ]
    },
    {
      "cell_type": "code",
      "metadata": {
        "colab": {
          "base_uri": "https://localhost:8080/"
        },
        "id": "bhNbQSpGuqhk",
        "outputId": "59c78926-2342-4e4b-a579-0cd4b6c79746"
      },
      "source": [
        "c.shape"
      ],
      "execution_count": 9,
      "outputs": [
        {
          "output_type": "execute_result",
          "data": {
            "text/plain": [
              "(2, 2, 3)"
            ]
          },
          "metadata": {
            "tags": []
          },
          "execution_count": 9
        }
      ]
    },
    {
      "cell_type": "code",
      "metadata": {
        "colab": {
          "base_uri": "https://localhost:8080/"
        },
        "id": "QEGkI0S0uuXA",
        "outputId": "be795650-20e3-4b5c-abfb-7efa2cd31c1b"
      },
      "source": [
        "len(c)"
      ],
      "execution_count": 10,
      "outputs": [
        {
          "output_type": "execute_result",
          "data": {
            "text/plain": [
              "2"
            ]
          },
          "metadata": {
            "tags": []
          },
          "execution_count": 10
        }
      ]
    },
    {
      "cell_type": "code",
      "metadata": {
        "colab": {
          "base_uri": "https://localhost:8080/"
        },
        "id": "MyoMWNogu0sn",
        "outputId": "1a5556e7-2ffd-46e6-9ee1-c19f594fa4d2"
      },
      "source": [
        "c.ndim"
      ],
      "execution_count": 11,
      "outputs": [
        {
          "output_type": "execute_result",
          "data": {
            "text/plain": [
              "3"
            ]
          },
          "metadata": {
            "tags": []
          },
          "execution_count": 11
        }
      ]
    },
    {
      "cell_type": "code",
      "metadata": {
        "colab": {
          "base_uri": "https://localhost:8080/"
        },
        "id": "3UwLrMsVu3fH",
        "outputId": "3b7586dd-bd69-4ee7-f413-82518d3b5926"
      },
      "source": [
        "c.size"
      ],
      "execution_count": 12,
      "outputs": [
        {
          "output_type": "execute_result",
          "data": {
            "text/plain": [
              "12"
            ]
          },
          "metadata": {
            "tags": []
          },
          "execution_count": 12
        }
      ]
    },
    {
      "cell_type": "code",
      "metadata": {
        "colab": {
          "base_uri": "https://localhost:8080/"
        },
        "id": "e64pb3p-u7yQ",
        "outputId": "abd49757-f228-4dab-aa99-5b598729e3fc"
      },
      "source": [
        "c.dtype"
      ],
      "execution_count": 13,
      "outputs": [
        {
          "output_type": "execute_result",
          "data": {
            "text/plain": [
              "dtype('int64')"
            ]
          },
          "metadata": {
            "tags": []
          },
          "execution_count": 13
        }
      ]
    },
    {
      "cell_type": "code",
      "metadata": {
        "colab": {
          "base_uri": "https://localhost:8080/",
          "height": 35
        },
        "id": "A_Bvn7IIu-Ue",
        "outputId": "c64ee162-0d1a-4519-c838-359b6a5171a4"
      },
      "source": [
        "c.dtype.name"
      ],
      "execution_count": 14,
      "outputs": [
        {
          "output_type": "execute_result",
          "data": {
            "application/vnd.google.colaboratory.intrinsic+json": {
              "type": "string"
            },
            "text/plain": [
              "'int64'"
            ]
          },
          "metadata": {
            "tags": []
          },
          "execution_count": 14
        }
      ]
    },
    {
      "cell_type": "code",
      "metadata": {
        "colab": {
          "base_uri": "https://localhost:8080/",
          "height": 35
        },
        "id": "cWxUsLDmvB-6",
        "outputId": "f7e31a1a-f95c-4cd7-d115-d6d5e89213ba"
      },
      "source": [
        "c = c.astype(float)\r\n",
        "c.dtype.name"
      ],
      "execution_count": 17,
      "outputs": [
        {
          "output_type": "execute_result",
          "data": {
            "application/vnd.google.colaboratory.intrinsic+json": {
              "type": "string"
            },
            "text/plain": [
              "'float64'"
            ]
          },
          "metadata": {
            "tags": []
          },
          "execution_count": 17
        }
      ]
    },
    {
      "cell_type": "markdown",
      "metadata": {
        "id": "0-wFYerTveWu"
      },
      "source": [
        "## Array Manipulation"
      ]
    },
    {
      "cell_type": "code",
      "metadata": {
        "colab": {
          "base_uri": "https://localhost:8080/"
        },
        "id": "Hb9TQ64avK3X",
        "outputId": "2b8b58dc-fe3e-4f95-a9ea-59d9cf80b14f"
      },
      "source": [
        "print(b)\r\n",
        "b_T = np.transpose(b)\r\n",
        "print(b_T)"
      ],
      "execution_count": 18,
      "outputs": [
        {
          "output_type": "stream",
          "text": [
            "[[1 2 3]\n",
            " [4 5 6]]\n",
            "[[1 4]\n",
            " [2 5]\n",
            " [3 6]]\n"
          ],
          "name": "stdout"
        }
      ]
    },
    {
      "cell_type": "code",
      "metadata": {
        "colab": {
          "base_uri": "https://localhost:8080/"
        },
        "id": "ap5p-5dJv3_D",
        "outputId": "c08414fd-fa33-489d-86f9-1baaab7c298d"
      },
      "source": [
        "b.ravel()"
      ],
      "execution_count": 19,
      "outputs": [
        {
          "output_type": "execute_result",
          "data": {
            "text/plain": [
              "array([1, 2, 3, 4, 5, 6])"
            ]
          },
          "metadata": {
            "tags": []
          },
          "execution_count": 19
        }
      ]
    },
    {
      "cell_type": "code",
      "metadata": {
        "colab": {
          "base_uri": "https://localhost:8080/"
        },
        "id": "RuWEIb4hv9VA",
        "outputId": "3313396f-b8d0-47e1-c915-9055a56b8e81"
      },
      "source": [
        "b.reshape(3,2)"
      ],
      "execution_count": 20,
      "outputs": [
        {
          "output_type": "execute_result",
          "data": {
            "text/plain": [
              "array([[1, 2],\n",
              "       [3, 4],\n",
              "       [5, 6]])"
            ]
          },
          "metadata": {
            "tags": []
          },
          "execution_count": 20
        }
      ]
    },
    {
      "cell_type": "code",
      "metadata": {
        "colab": {
          "base_uri": "https://localhost:8080/"
        },
        "id": "XIlay9LzwFU-",
        "outputId": "49ee8aa5-f539-4744-8804-619739f0c82e"
      },
      "source": [
        "b.resize(1,6)\r\n",
        "b"
      ],
      "execution_count": 30,
      "outputs": [
        {
          "output_type": "execute_result",
          "data": {
            "text/plain": [
              "array([[1, 2, 3, 4, 5, 6]])"
            ]
          },
          "metadata": {
            "tags": []
          },
          "execution_count": 30
        }
      ]
    },
    {
      "cell_type": "code",
      "metadata": {
        "colab": {
          "base_uri": "https://localhost:8080/"
        },
        "id": "rG5HsGh_wTUw",
        "outputId": "573c9c5d-f2b0-4493-a58c-bea93efe4229"
      },
      "source": [
        "a = np.array([1,2,3])\r\n",
        "b = np.array([4,5,6])\r\n",
        "np.append(a,b)"
      ],
      "execution_count": 31,
      "outputs": [
        {
          "output_type": "execute_result",
          "data": {
            "text/plain": [
              "array([1, 2, 3, 4, 5, 6])"
            ]
          },
          "metadata": {
            "tags": []
          },
          "execution_count": 31
        }
      ]
    },
    {
      "cell_type": "code",
      "metadata": {
        "colab": {
          "base_uri": "https://localhost:8080/"
        },
        "id": "lXqosxVXwwNw",
        "outputId": "05d851b8-4e5a-4727-a8f7-dcb33e80639c"
      },
      "source": [
        "np.insert(a, 3, 1)"
      ],
      "execution_count": 42,
      "outputs": [
        {
          "output_type": "execute_result",
          "data": {
            "text/plain": [
              "array([1, 2, 3, 1])"
            ]
          },
          "metadata": {
            "tags": []
          },
          "execution_count": 42
        }
      ]
    },
    {
      "cell_type": "code",
      "metadata": {
        "colab": {
          "base_uri": "https://localhost:8080/"
        },
        "id": "xV8c7RMqw-Hx",
        "outputId": "4d66880e-3b85-4916-9c09-4a6d283a0961"
      },
      "source": [
        "np.delete(a, 2)"
      ],
      "execution_count": 43,
      "outputs": [
        {
          "output_type": "execute_result",
          "data": {
            "text/plain": [
              "array([1, 2])"
            ]
          },
          "metadata": {
            "tags": []
          },
          "execution_count": 43
        }
      ]
    },
    {
      "cell_type": "markdown",
      "metadata": {
        "id": "8nTe_TSBxR_R"
      },
      "source": [
        "## Combining Arrays"
      ]
    },
    {
      "cell_type": "code",
      "metadata": {
        "colab": {
          "base_uri": "https://localhost:8080/"
        },
        "id": "PgX-VfHAxUAi",
        "outputId": "5948596f-7df4-4275-b43b-9f4c09cffcd2"
      },
      "source": [
        "a = np.array([(1,2,3),\r\n",
        "              (4,5,6)])\r\n",
        "\r\n",
        "b = np.array([(7,8,9),\r\n",
        "              (10,11,12)])\r\n",
        "\r\n",
        "c = np.concatenate((a,b), axis=1)\r\n",
        "print(c)"
      ],
      "execution_count": 44,
      "outputs": [
        {
          "output_type": "stream",
          "text": [
            "[[ 1  2  3  7  8  9]\n",
            " [ 4  5  6 10 11 12]]\n"
          ],
          "name": "stdout"
        }
      ]
    },
    {
      "cell_type": "code",
      "metadata": {
        "colab": {
          "base_uri": "https://localhost:8080/"
        },
        "id": "2Yhr_C0Hxqtu",
        "outputId": "490e4ed3-6e53-4708-e837-0f614158d69c"
      },
      "source": [
        "np.vstack((a,b))"
      ],
      "execution_count": 46,
      "outputs": [
        {
          "output_type": "execute_result",
          "data": {
            "text/plain": [
              "array([[ 1,  2,  3],\n",
              "       [ 4,  5,  6],\n",
              "       [ 7,  8,  9],\n",
              "       [10, 11, 12]])"
            ]
          },
          "metadata": {
            "tags": []
          },
          "execution_count": 46
        }
      ]
    },
    {
      "cell_type": "code",
      "metadata": {
        "colab": {
          "base_uri": "https://localhost:8080/"
        },
        "id": "NnVwyS03xwUK",
        "outputId": "dac8167c-04ee-4ecf-b24a-35bd615971ac"
      },
      "source": [
        "np.hstack((a,b))"
      ],
      "execution_count": 47,
      "outputs": [
        {
          "output_type": "execute_result",
          "data": {
            "text/plain": [
              "array([[ 1,  2,  3,  7,  8,  9],\n",
              "       [ 4,  5,  6, 10, 11, 12]])"
            ]
          },
          "metadata": {
            "tags": []
          },
          "execution_count": 47
        }
      ]
    }
  ]
}