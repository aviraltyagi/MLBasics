{
  "nbformat": 4,
  "nbformat_minor": 0,
  "metadata": {
    "colab": {
      "name": "Basic Python.ipynb",
      "provenance": [],
      "collapsed_sections": [],
      "authorship_tag": "ABX9TyNUp2UIqo78GfePQn4FYxDW",
      "include_colab_link": true
    },
    "kernelspec": {
      "name": "python3",
      "display_name": "Python 3"
    }
  },
  "cells": [
    {
      "cell_type": "markdown",
      "metadata": {
        "id": "view-in-github",
        "colab_type": "text"
      },
      "source": [
        "<a href=\"https://colab.research.google.com/github/aviraltyagi/MLBasics/blob/main/Basic_Python.ipynb\" target=\"_parent\"><img src=\"https://colab.research.google.com/assets/colab-badge.svg\" alt=\"Open In Colab\"/></a>"
      ]
    },
    {
      "cell_type": "markdown",
      "metadata": {
        "id": "hVQi03YwS_9M"
      },
      "source": [
        "## List"
      ]
    },
    {
      "cell_type": "code",
      "metadata": {
        "id": "mL-fPxbASg9D"
      },
      "source": [
        "list1 = list([1,2,3,4,5])\r\n",
        "list2 = [1,2,3,4,5]"
      ],
      "execution_count": 27,
      "outputs": []
    },
    {
      "cell_type": "code",
      "metadata": {
        "colab": {
          "base_uri": "https://localhost:8080/"
        },
        "id": "PSro-RskS2cL",
        "outputId": "1c8cc387-dc63-47a4-ff92-31d4b7f704ae"
      },
      "source": [
        "list1"
      ],
      "execution_count": 28,
      "outputs": [
        {
          "output_type": "execute_result",
          "data": {
            "text/plain": [
              "[1, 2, 3, 4, 5]"
            ]
          },
          "metadata": {
            "tags": []
          },
          "execution_count": 28
        }
      ]
    },
    {
      "cell_type": "code",
      "metadata": {
        "colab": {
          "base_uri": "https://localhost:8080/"
        },
        "id": "d_BDYQgDS49X",
        "outputId": "58998c22-d36a-4e31-99d7-6c952c49d80d"
      },
      "source": [
        "list2"
      ],
      "execution_count": 29,
      "outputs": [
        {
          "output_type": "execute_result",
          "data": {
            "text/plain": [
              "[1, 2, 3, 4, 5]"
            ]
          },
          "metadata": {
            "tags": []
          },
          "execution_count": 29
        }
      ]
    },
    {
      "cell_type": "code",
      "metadata": {
        "colab": {
          "base_uri": "https://localhost:8080/"
        },
        "id": "5Vn0sYewTCOf",
        "outputId": "2b71df1c-b1b3-4834-af8f-69c4293245f2"
      },
      "source": [
        "list1[0]"
      ],
      "execution_count": 30,
      "outputs": [
        {
          "output_type": "execute_result",
          "data": {
            "text/plain": [
              "1"
            ]
          },
          "metadata": {
            "tags": []
          },
          "execution_count": 30
        }
      ]
    },
    {
      "cell_type": "code",
      "metadata": {
        "colab": {
          "base_uri": "https://localhost:8080/"
        },
        "id": "Sijf3-bcTGNF",
        "outputId": "70da5d76-7d90-41ad-d39b-65eb9b758425"
      },
      "source": [
        "list2[1:3]"
      ],
      "execution_count": 31,
      "outputs": [
        {
          "output_type": "execute_result",
          "data": {
            "text/plain": [
              "[2, 3]"
            ]
          },
          "metadata": {
            "tags": []
          },
          "execution_count": 31
        }
      ]
    },
    {
      "cell_type": "code",
      "metadata": {
        "colab": {
          "base_uri": "https://localhost:8080/"
        },
        "id": "PtlgOz-FTOwe",
        "outputId": "699c55d4-9de1-48bb-b61b-bc90cec59b4f"
      },
      "source": [
        "# Append elements at the end of list (one at a time)\r\n",
        "list1.append(6)\r\n",
        "list1"
      ],
      "execution_count": 32,
      "outputs": [
        {
          "output_type": "execute_result",
          "data": {
            "text/plain": [
              "[1, 2, 3, 4, 5, 6]"
            ]
          },
          "metadata": {
            "tags": []
          },
          "execution_count": 32
        }
      ]
    },
    {
      "cell_type": "code",
      "metadata": {
        "colab": {
          "base_uri": "https://localhost:8080/"
        },
        "id": "YvBn7yzSTm35",
        "outputId": "56a635d5-081c-448d-b4f2-bb9035c59793"
      },
      "source": [
        "# Clears the complete list\r\n",
        "list2.clear()\r\n",
        "list2"
      ],
      "execution_count": 33,
      "outputs": [
        {
          "output_type": "execute_result",
          "data": {
            "text/plain": [
              "[]"
            ]
          },
          "metadata": {
            "tags": []
          },
          "execution_count": 33
        }
      ]
    },
    {
      "cell_type": "code",
      "metadata": {
        "colab": {
          "base_uri": "https://localhost:8080/"
        },
        "id": "VmiTpBUKTt49",
        "outputId": "e924f5ee-22f3-4c50-f333-4da5becb0a33"
      },
      "source": [
        "# Returns the copy of list\r\n",
        "list2 = list1.copy()\r\n",
        "list2"
      ],
      "execution_count": 34,
      "outputs": [
        {
          "output_type": "execute_result",
          "data": {
            "text/plain": [
              "[1, 2, 3, 4, 5, 6]"
            ]
          },
          "metadata": {
            "tags": []
          },
          "execution_count": 34
        }
      ]
    },
    {
      "cell_type": "code",
      "metadata": {
        "colab": {
          "base_uri": "https://localhost:8080/"
        },
        "id": "KIGm-NpDT37H",
        "outputId": "ae2465cb-0fcf-4a19-a637-a4d062869fa9"
      },
      "source": [
        "# Count the occurrence of particular value in the list\r\n",
        "list1.count(2)"
      ],
      "execution_count": 35,
      "outputs": [
        {
          "output_type": "execute_result",
          "data": {
            "text/plain": [
              "1"
            ]
          },
          "metadata": {
            "tags": []
          },
          "execution_count": 35
        }
      ]
    },
    {
      "cell_type": "code",
      "metadata": {
        "colab": {
          "base_uri": "https://localhost:8080/"
        },
        "id": "5EwjBovKUMI7",
        "outputId": "1d40ef98-9cc5-4e15-ecee-6fe24ca50f4d"
      },
      "source": [
        "# Append the iterable object into the string\r\n",
        "list1.extend(list2)\r\n",
        "list1"
      ],
      "execution_count": 36,
      "outputs": [
        {
          "output_type": "execute_result",
          "data": {
            "text/plain": [
              "[1, 2, 3, 4, 5, 6, 1, 2, 3, 4, 5, 6]"
            ]
          },
          "metadata": {
            "tags": []
          },
          "execution_count": 36
        }
      ]
    },
    {
      "cell_type": "code",
      "metadata": {
        "colab": {
          "base_uri": "https://localhost:8080/"
        },
        "id": "Vi0o_VUwUaaI",
        "outputId": "0a645580-bfd2-4da7-a70b-b386d1159dbc"
      },
      "source": [
        "# Inserts element at particular index\r\n",
        "list1.insert(2, 10)\r\n",
        "list1"
      ],
      "execution_count": 37,
      "outputs": [
        {
          "output_type": "execute_result",
          "data": {
            "text/plain": [
              "[1, 2, 10, 3, 4, 5, 6, 1, 2, 3, 4, 5, 6]"
            ]
          },
          "metadata": {
            "tags": []
          },
          "execution_count": 37
        }
      ]
    },
    {
      "cell_type": "code",
      "metadata": {
        "colab": {
          "base_uri": "https://localhost:8080/"
        },
        "id": "-CC3hjKuUrIl",
        "outputId": "656a319d-4649-4df6-c96a-ebd741098511"
      },
      "source": [
        "# Removes element at particular index\r\n",
        "list1.pop(2)\r\n",
        "list1"
      ],
      "execution_count": 38,
      "outputs": [
        {
          "output_type": "execute_result",
          "data": {
            "text/plain": [
              "[1, 2, 3, 4, 5, 6, 1, 2, 3, 4, 5, 6]"
            ]
          },
          "metadata": {
            "tags": []
          },
          "execution_count": 38
        }
      ]
    },
    {
      "cell_type": "code",
      "metadata": {
        "colab": {
          "base_uri": "https://localhost:8080/"
        },
        "id": "LquRYPkcU11h",
        "outputId": "852d3657-644f-4ba6-ffd4-c4bc76e27c56"
      },
      "source": [
        "# Remove first occurrence of the element\r\n",
        "list1.remove(5)\r\n",
        "list1"
      ],
      "execution_count": 39,
      "outputs": [
        {
          "output_type": "execute_result",
          "data": {
            "text/plain": [
              "[1, 2, 3, 4, 6, 1, 2, 3, 4, 5, 6]"
            ]
          },
          "metadata": {
            "tags": []
          },
          "execution_count": 39
        }
      ]
    },
    {
      "cell_type": "code",
      "metadata": {
        "colab": {
          "base_uri": "https://localhost:8080/"
        },
        "id": "gDTGlbliVBm7",
        "outputId": "5e2d94ae-9b4c-4656-f620-c125390856f3"
      },
      "source": [
        "# Reverse the order of list\r\n",
        "list2.reverse()\r\n",
        "list2"
      ],
      "execution_count": 40,
      "outputs": [
        {
          "output_type": "execute_result",
          "data": {
            "text/plain": [
              "[6, 5, 4, 3, 2, 1]"
            ]
          },
          "metadata": {
            "tags": []
          },
          "execution_count": 40
        }
      ]
    },
    {
      "cell_type": "code",
      "metadata": {
        "colab": {
          "base_uri": "https://localhost:8080/"
        },
        "id": "axgrXl7wVME7",
        "outputId": "7c324d60-2f34-4f3d-9653-9be82760ec46"
      },
      "source": [
        "# Reverse the order of list\r\n",
        "list2.sort(reverse= False)\r\n",
        "list2"
      ],
      "execution_count": 41,
      "outputs": [
        {
          "output_type": "execute_result",
          "data": {
            "text/plain": [
              "[1, 2, 3, 4, 5, 6]"
            ]
          },
          "metadata": {
            "tags": []
          },
          "execution_count": 41
        }
      ]
    },
    {
      "cell_type": "markdown",
      "metadata": {
        "id": "8ED7T7_iVZz3"
      },
      "source": [
        "## String"
      ]
    },
    {
      "cell_type": "code",
      "metadata": {
        "colab": {
          "base_uri": "https://localhost:8080/"
        },
        "id": "ORCAIJonVfHo",
        "outputId": "057b3e9d-8322-41da-ddd0-8b426c70ad4c"
      },
      "source": [
        "string = \"Hello\"\r\n",
        "print(string)\r\n",
        "print(len(string))\r\n",
        "string = string + \" World!\"\r\n",
        "print(string)"
      ],
      "execution_count": 42,
      "outputs": [
        {
          "output_type": "stream",
          "text": [
            "Hello\n",
            "5\n",
            "Hello World!\n"
          ],
          "name": "stdout"
        }
      ]
    },
    {
      "cell_type": "code",
      "metadata": {
        "colab": {
          "base_uri": "https://localhost:8080/",
          "height": 35
        },
        "id": "mCmm3CsMV7fE",
        "outputId": "c27f016a-730b-47aa-9bd4-cf48474d3fb3"
      },
      "source": [
        "string[1]"
      ],
      "execution_count": 43,
      "outputs": [
        {
          "output_type": "execute_result",
          "data": {
            "application/vnd.google.colaboratory.intrinsic+json": {
              "type": "string"
            },
            "text/plain": [
              "'e'"
            ]
          },
          "metadata": {
            "tags": []
          },
          "execution_count": 43
        }
      ]
    },
    {
      "cell_type": "code",
      "metadata": {
        "colab": {
          "base_uri": "https://localhost:8080/"
        },
        "id": "pbdgRjfyWKPH",
        "outputId": "cb856b8b-928e-4d76-9e2d-c067e76edcf7"
      },
      "source": [
        "for s in string:\r\n",
        "  print(s)"
      ],
      "execution_count": 44,
      "outputs": [
        {
          "output_type": "stream",
          "text": [
            "H\n",
            "e\n",
            "l\n",
            "l\n",
            "o\n",
            " \n",
            "W\n",
            "o\n",
            "r\n",
            "l\n",
            "d\n",
            "!\n"
          ],
          "name": "stdout"
        }
      ]
    },
    {
      "cell_type": "code",
      "metadata": {
        "colab": {
          "base_uri": "https://localhost:8080/"
        },
        "id": "iiKZp_6SWR_G",
        "outputId": "02f86a3a-0041-45b6-adf9-38a005f92f3b"
      },
      "source": [
        "iterator = iter(string)\r\n",
        "print(next(iterator))\r\n",
        "print(next(iterator))\r\n",
        "print(next(iterator))\r\n",
        "print(next(iterator))\r\n",
        "print(next(iterator))"
      ],
      "execution_count": 47,
      "outputs": [
        {
          "output_type": "stream",
          "text": [
            "H\n",
            "e\n",
            "l\n",
            "l\n",
            "o\n"
          ],
          "name": "stdout"
        }
      ]
    },
    {
      "cell_type": "code",
      "metadata": {
        "colab": {
          "base_uri": "https://localhost:8080/"
        },
        "id": "WbpAMD5oW1rZ",
        "outputId": "a369c548-aba9-4a42-b06c-74bd4aef46c4"
      },
      "source": [
        "# Counts the occurrence of a character in the string\r\n",
        "string.count(\"l\")"
      ],
      "execution_count": 51,
      "outputs": [
        {
          "output_type": "execute_result",
          "data": {
            "text/plain": [
              "3"
            ]
          },
          "metadata": {
            "tags": []
          },
          "execution_count": 51
        }
      ]
    },
    {
      "cell_type": "code",
      "metadata": {
        "colab": {
          "base_uri": "https://localhost:8080/",
          "height": 35
        },
        "id": "FtuTn-edXT4t",
        "outputId": "2aa70156-72c8-4edc-fb48-55761e0ceef2"
      },
      "source": [
        "string.lower()"
      ],
      "execution_count": 53,
      "outputs": [
        {
          "output_type": "execute_result",
          "data": {
            "application/vnd.google.colaboratory.intrinsic+json": {
              "type": "string"
            },
            "text/plain": [
              "'hello world!'"
            ]
          },
          "metadata": {
            "tags": []
          },
          "execution_count": 53
        }
      ]
    },
    {
      "cell_type": "code",
      "metadata": {
        "colab": {
          "base_uri": "https://localhost:8080/",
          "height": 35
        },
        "id": "sGlx25H7XiGV",
        "outputId": "609811c8-4616-4a10-d71d-6b475d304850"
      },
      "source": [
        "string.capitalize()"
      ],
      "execution_count": 54,
      "outputs": [
        {
          "output_type": "execute_result",
          "data": {
            "application/vnd.google.colaboratory.intrinsic+json": {
              "type": "string"
            },
            "text/plain": [
              "'Hello world!'"
            ]
          },
          "metadata": {
            "tags": []
          },
          "execution_count": 54
        }
      ]
    },
    {
      "cell_type": "code",
      "metadata": {
        "colab": {
          "base_uri": "https://localhost:8080/",
          "height": 35
        },
        "id": "VpabvSUqXlF-",
        "outputId": "c5b79b97-2042-43fc-e0ed-7df1a5892755"
      },
      "source": [
        "string.upper()"
      ],
      "execution_count": 55,
      "outputs": [
        {
          "output_type": "execute_result",
          "data": {
            "application/vnd.google.colaboratory.intrinsic+json": {
              "type": "string"
            },
            "text/plain": [
              "'HELLO WORLD!'"
            ]
          },
          "metadata": {
            "tags": []
          },
          "execution_count": 55
        }
      ]
    },
    {
      "cell_type": "code",
      "metadata": {
        "colab": {
          "base_uri": "https://localhost:8080/"
        },
        "id": "G4EmRTKzXn6R",
        "outputId": "2ca0407e-fe04-4125-a23b-36e853cc3107"
      },
      "source": [
        "string.endswith('d')"
      ],
      "execution_count": 57,
      "outputs": [
        {
          "output_type": "execute_result",
          "data": {
            "text/plain": [
              "False"
            ]
          },
          "metadata": {
            "tags": []
          },
          "execution_count": 57
        }
      ]
    },
    {
      "cell_type": "code",
      "metadata": {
        "colab": {
          "base_uri": "https://localhost:8080/"
        },
        "id": "yObqEzbdX9i3",
        "outputId": "3f85fe00-5a41-4cb0-e224-25d4e4a91d79"
      },
      "source": [
        "string.find('l')"
      ],
      "execution_count": 58,
      "outputs": [
        {
          "output_type": "execute_result",
          "data": {
            "text/plain": [
              "2"
            ]
          },
          "metadata": {
            "tags": []
          },
          "execution_count": 58
        }
      ]
    },
    {
      "cell_type": "markdown",
      "metadata": {
        "id": "8aOIfmfiYi5w"
      },
      "source": [
        "## Tuples"
      ]
    },
    {
      "cell_type": "code",
      "metadata": {
        "id": "zz06ZhfmYfst"
      },
      "source": [
        "tuple1 = tuple((1,2,3,4,5))\r\n",
        "tuple2 = 1,2,3,4,5"
      ],
      "execution_count": 59,
      "outputs": []
    },
    {
      "cell_type": "code",
      "metadata": {
        "colab": {
          "base_uri": "https://localhost:8080/"
        },
        "id": "rKtiEIswaADL",
        "outputId": "a24c284c-7c47-439c-ab0d-b6fa06fc1ceb"
      },
      "source": [
        "print(tuple1)\r\n",
        "print(tuple2)"
      ],
      "execution_count": 61,
      "outputs": [
        {
          "output_type": "stream",
          "text": [
            "(1, 2, 3, 4, 5)\n",
            "(1, 2, 3, 4, 5)\n"
          ],
          "name": "stdout"
        }
      ]
    },
    {
      "cell_type": "code",
      "metadata": {
        "colab": {
          "base_uri": "https://localhost:8080/"
        },
        "id": "LZ8nd6SgaI6f",
        "outputId": "5cd5b95b-35d7-4c40-af87-91174cdee677"
      },
      "source": [
        "tuple1[2]"
      ],
      "execution_count": 62,
      "outputs": [
        {
          "output_type": "execute_result",
          "data": {
            "text/plain": [
              "3"
            ]
          },
          "metadata": {
            "tags": []
          },
          "execution_count": 62
        }
      ]
    },
    {
      "cell_type": "code",
      "metadata": {
        "colab": {
          "base_uri": "https://localhost:8080/"
        },
        "id": "HB-ukWtRaTVS",
        "outputId": "560ab223-3bed-428a-a39a-88f938b79e3b"
      },
      "source": [
        "tuple1.count(4)"
      ],
      "execution_count": 63,
      "outputs": [
        {
          "output_type": "execute_result",
          "data": {
            "text/plain": [
              "1"
            ]
          },
          "metadata": {
            "tags": []
          },
          "execution_count": 63
        }
      ]
    },
    {
      "cell_type": "code",
      "metadata": {
        "colab": {
          "base_uri": "https://localhost:8080/"
        },
        "id": "7irRMAu7aW-W",
        "outputId": "3adc4b02-a9ce-4f33-c67e-5e8fb2bde507"
      },
      "source": [
        "tuple2.index(2)"
      ],
      "execution_count": 65,
      "outputs": [
        {
          "output_type": "execute_result",
          "data": {
            "text/plain": [
              "1"
            ]
          },
          "metadata": {
            "tags": []
          },
          "execution_count": 65
        }
      ]
    },
    {
      "cell_type": "markdown",
      "metadata": {
        "id": "Q0Mkxat_amFc"
      },
      "source": [
        "## Dictonary"
      ]
    },
    {
      "cell_type": "code",
      "metadata": {
        "id": "9TZyP9N4aoG6"
      },
      "source": [
        "dict1 = dict(\r\n",
        "            {\"one\":1,\r\n",
        "             \"two\":2,\r\n",
        "             \"three\":3,\r\n",
        "             \"four\":4})\r\n",
        "\r\n",
        "dict2 = {\"one\":1,\r\n",
        "         \"two\":2,\r\n",
        "         \"three\":3,\r\n",
        "         \"four\":4}"
      ],
      "execution_count": 71,
      "outputs": []
    },
    {
      "cell_type": "code",
      "metadata": {
        "colab": {
          "base_uri": "https://localhost:8080/"
        },
        "id": "_6yEpPF9a1le",
        "outputId": "4a350fb3-f755-4b3a-b35a-bfc53ed19dab"
      },
      "source": [
        "dict1"
      ],
      "execution_count": 72,
      "outputs": [
        {
          "output_type": "execute_result",
          "data": {
            "text/plain": [
              "{'four': 4, 'one': 1, 'three': 3, 'two': 2}"
            ]
          },
          "metadata": {
            "tags": []
          },
          "execution_count": 72
        }
      ]
    },
    {
      "cell_type": "code",
      "metadata": {
        "colab": {
          "base_uri": "https://localhost:8080/"
        },
        "id": "T3LjZLuBa9UE",
        "outputId": "a0974d1d-baac-4b90-a92d-1f6d6edb9b68"
      },
      "source": [
        "dict2"
      ],
      "execution_count": 73,
      "outputs": [
        {
          "output_type": "execute_result",
          "data": {
            "text/plain": [
              "{'four': 4, 'one': 1, 'three': 3, 'two': 2}"
            ]
          },
          "metadata": {
            "tags": []
          },
          "execution_count": 73
        }
      ]
    },
    {
      "cell_type": "code",
      "metadata": {
        "colab": {
          "base_uri": "https://localhost:8080/"
        },
        "id": "Tue_Gk9QbbNW",
        "outputId": "d1f88924-fa0e-443c-f6b0-a3c00a91885a"
      },
      "source": [
        "dict1[\"one\"]"
      ],
      "execution_count": 74,
      "outputs": [
        {
          "output_type": "execute_result",
          "data": {
            "text/plain": [
              "1"
            ]
          },
          "metadata": {
            "tags": []
          },
          "execution_count": 74
        }
      ]
    },
    {
      "cell_type": "code",
      "metadata": {
        "colab": {
          "base_uri": "https://localhost:8080/"
        },
        "id": "1kMjBX55bpUR",
        "outputId": "e058552a-db9b-482c-afd2-a375a479915e"
      },
      "source": [
        "dict1.keys()"
      ],
      "execution_count": 75,
      "outputs": [
        {
          "output_type": "execute_result",
          "data": {
            "text/plain": [
              "dict_keys(['one', 'two', 'three', 'four'])"
            ]
          },
          "metadata": {
            "tags": []
          },
          "execution_count": 75
        }
      ]
    },
    {
      "cell_type": "code",
      "metadata": {
        "colab": {
          "base_uri": "https://localhost:8080/"
        },
        "id": "YbMYaHjhbuHM",
        "outputId": "2e47e3bc-1ab2-4b4c-ae8b-5243d519f6e3"
      },
      "source": [
        "dict1.values()"
      ],
      "execution_count": 76,
      "outputs": [
        {
          "output_type": "execute_result",
          "data": {
            "text/plain": [
              "dict_values([1, 2, 3, 4])"
            ]
          },
          "metadata": {
            "tags": []
          },
          "execution_count": 76
        }
      ]
    },
    {
      "cell_type": "code",
      "metadata": {
        "id": "zNm0sJ0sbxBG"
      },
      "source": [
        "dict2.clear()"
      ],
      "execution_count": 77,
      "outputs": []
    },
    {
      "cell_type": "code",
      "metadata": {
        "colab": {
          "base_uri": "https://localhost:8080/"
        },
        "id": "MHATMcECb1tL",
        "outputId": "e5e0528d-457a-4181-9db9-3f7c3b9fe969"
      },
      "source": [
        "dict2"
      ],
      "execution_count": 78,
      "outputs": [
        {
          "output_type": "execute_result",
          "data": {
            "text/plain": [
              "{}"
            ]
          },
          "metadata": {
            "tags": []
          },
          "execution_count": 78
        }
      ]
    },
    {
      "cell_type": "code",
      "metadata": {
        "colab": {
          "base_uri": "https://localhost:8080/"
        },
        "id": "gNEjDbzUb3eO",
        "outputId": "9e7d7ddd-a3bd-4379-fc3e-b1ff112d8aa6"
      },
      "source": [
        "dict2 = dict1.copy()\r\n",
        "dict2"
      ],
      "execution_count": 79,
      "outputs": [
        {
          "output_type": "execute_result",
          "data": {
            "text/plain": [
              "{'four': 4, 'one': 1, 'three': 3, 'two': 2}"
            ]
          },
          "metadata": {
            "tags": []
          },
          "execution_count": 79
        }
      ]
    },
    {
      "cell_type": "code",
      "metadata": {
        "colab": {
          "base_uri": "https://localhost:8080/"
        },
        "id": "iryJ3WwTb73v",
        "outputId": "0d036deb-2d54-4e88-b581-7190a77e9346"
      },
      "source": [
        "dict1.items()"
      ],
      "execution_count": 80,
      "outputs": [
        {
          "output_type": "execute_result",
          "data": {
            "text/plain": [
              "dict_items([('one', 1), ('two', 2), ('three', 3), ('four', 4)])"
            ]
          },
          "metadata": {
            "tags": []
          },
          "execution_count": 80
        }
      ]
    },
    {
      "cell_type": "code",
      "metadata": {
        "colab": {
          "base_uri": "https://localhost:8080/"
        },
        "id": "31k4NvfEcCvN",
        "outputId": "c685bb2b-44c9-4d28-e19e-6c1dd23575c5"
      },
      "source": [
        "dict1.get(\"two\")"
      ],
      "execution_count": 81,
      "outputs": [
        {
          "output_type": "execute_result",
          "data": {
            "text/plain": [
              "2"
            ]
          },
          "metadata": {
            "tags": []
          },
          "execution_count": 81
        }
      ]
    },
    {
      "cell_type": "code",
      "metadata": {
        "id": "aihy20OMcHBB"
      },
      "source": [
        "dict1.update({\"two\":\"two\"})"
      ],
      "execution_count": 83,
      "outputs": []
    },
    {
      "cell_type": "code",
      "metadata": {
        "colab": {
          "base_uri": "https://localhost:8080/"
        },
        "id": "-nu5eY1scpJc",
        "outputId": "af99f2d0-77dd-4f9c-cf7c-842e7db41d51"
      },
      "source": [
        "dict1"
      ],
      "execution_count": 84,
      "outputs": [
        {
          "output_type": "execute_result",
          "data": {
            "text/plain": [
              "{'four': 4, 'one': 1, 'three': 3, 'two': 'two'}"
            ]
          },
          "metadata": {
            "tags": []
          },
          "execution_count": 84
        }
      ]
    }
  ]
}